{
 "cells": [
  {
   "cell_type": "code",
   "execution_count": 9,
   "id": "9f29f888",
   "metadata": {},
   "outputs": [
    {
     "data": {
      "text/plain": [
       "{'article': [{'id': '10', 'player': 'sachin', 'type': 'batsman'},\n",
       "  {'id': '18', 'player': 'virat', 'type': 'batman'}]}"
      ]
     },
     "execution_count": 9,
     "metadata": {},
     "output_type": "execute_result"
    }
   ],
   "source": [
    "{\n",
    "    \"article\"  :[\n",
    "        {\n",
    "            \"id\" : \"10\",\n",
    "            \"player\" : \"sachin\",\n",
    "            \"type\" : \"batsman\"\n",
    "        },\n",
    "        {\n",
    "            \"id\" : \"18\",\n",
    "            \"player\" : \"virat\",\n",
    "            \"type\" : \"batman\"\n",
    "        }\n",
    "    ]\n",
    "}"
   ]
  },
  {
   "cell_type": "code",
   "execution_count": 2,
   "id": "5b075ec6",
   "metadata": {},
   "outputs": [],
   "source": []
  },
  {
   "cell_type": "code",
   "execution_count": 3,
   "id": "562f07ae",
   "metadata": {},
   "outputs": [],
   "source": [
    "import json"
   ]
  },
  {
   "cell_type": "code",
   "execution_count": 10,
   "id": "524a762a",
   "metadata": {},
   "outputs": [],
   "source": [
    "my_data = \"\"\"{\n",
    "   \"article\"  :[\n",
    "        {\n",
    "            \"id\" : \"10\",\n",
    "            \"player\" : \"sachin\",\n",
    "            \"type\" : \"batsman\"\n",
    "        },\n",
    "        {\n",
    "            \"id\" : \"18\",\n",
    "            \"player\" : \"virat\",\n",
    "            \"type\" : \"batman\"\n",
    "        }\n",
    "    ]\n",
    "}\"\"\""
   ]
  },
  {
   "cell_type": "code",
   "execution_count": 11,
   "id": "3ed0d851",
   "metadata": {},
   "outputs": [
    {
     "data": {
      "text/plain": [
       "'{\\n   \"article\"  :[\\n        {\\n            \"id\" : \"10\",\\n            \"player\" : \"sachin\",\\n            \"type\" : \"batsman\"\\n        },\\n        {\\n            \"id\" : \"18\",\\n            \"player\" : \"virat\",\\n            \"type\" : \"batman\"\\n        }\\n    ]\\n}'"
      ]
     },
     "execution_count": 11,
     "metadata": {},
     "output_type": "execute_result"
    }
   ],
   "source": [
    "my_data"
   ]
  },
  {
   "cell_type": "code",
   "execution_count": 14,
   "id": "03389d21",
   "metadata": {},
   "outputs": [],
   "source": [
    "to_data = json.loads(my_data)"
   ]
  },
  {
   "cell_type": "code",
   "execution_count": 15,
   "id": "32e657c0",
   "metadata": {},
   "outputs": [
    {
     "data": {
      "text/plain": [
       "{'article': [{'id': '10', 'player': 'sachin', 'type': 'batsman'},\n",
       "  {'id': '18', 'player': 'virat', 'type': 'batman'}]}"
      ]
     },
     "execution_count": 15,
     "metadata": {},
     "output_type": "execute_result"
    }
   ],
   "source": [
    "to_data"
   ]
  },
  {
   "cell_type": "code",
   "execution_count": 16,
   "id": "3ff8a77c",
   "metadata": {},
   "outputs": [
    {
     "data": {
      "text/plain": [
       "[{'id': '10', 'player': 'sachin', 'type': 'batsman'},\n",
       " {'id': '18', 'player': 'virat', 'type': 'batman'}]"
      ]
     },
     "execution_count": 16,
     "metadata": {},
     "output_type": "execute_result"
    }
   ],
   "source": [
    "to_data['article']"
   ]
  },
  {
   "cell_type": "code",
   "execution_count": null,
   "id": "2cff7a92",
   "metadata": {},
   "outputs": [],
   "source": []
  },
  {
   "cell_type": "code",
   "execution_count": 17,
   "id": "3487a2e6",
   "metadata": {},
   "outputs": [],
   "source": [
    "another_data = {'cricket' : \"indian_cric\", 'name' : \"test_team\"}"
   ]
  },
  {
   "cell_type": "code",
   "execution_count": 18,
   "id": "e736455b",
   "metadata": {},
   "outputs": [
    {
     "data": {
      "text/plain": [
       "{'cricket': 'indian_cric', 'name': 'test_team'}"
      ]
     },
     "execution_count": 18,
     "metadata": {},
     "output_type": "execute_result"
    }
   ],
   "source": [
    "another_data"
   ]
  },
  {
   "cell_type": "code",
   "execution_count": null,
   "id": "11907e41",
   "metadata": {},
   "outputs": [],
   "source": []
  },
  {
   "cell_type": "code",
   "execution_count": null,
   "id": "e1129f8d",
   "metadata": {},
   "outputs": [],
   "source": []
  },
  {
   "cell_type": "code",
   "execution_count": 37,
   "id": "3427d96f",
   "metadata": {},
   "outputs": [],
   "source": [
    "with open('cricket_6.json', 'w') as file:\n",
    "    json.dump(to_data, file)"
   ]
  },
  {
   "cell_type": "code",
   "execution_count": 39,
   "id": "f176dcb5",
   "metadata": {},
   "outputs": [
    {
     "name": "stdout",
     "output_type": "stream",
     "text": [
      "{'article': [{'id': '10', 'player': 'sachin', 'type': 'batsman'}, {'id': '18', 'player': 'virat', 'type': 'batman'}]}\n"
     ]
    }
   ],
   "source": [
    "with open('cricket_6.json', 'r') as file:\n",
    "    json_data = json.load(file)\n",
    "    print(json_data)"
   ]
  },
  {
   "cell_type": "code",
   "execution_count": null,
   "id": "7de43750",
   "metadata": {},
   "outputs": [],
   "source": []
  },
  {
   "cell_type": "code",
   "execution_count": 40,
   "id": "ee4bb9ec",
   "metadata": {},
   "outputs": [],
   "source": [
    "import pandas as pd"
   ]
  },
  {
   "cell_type": "code",
   "execution_count": 41,
   "id": "a58b3932",
   "metadata": {},
   "outputs": [],
   "source": [
    "df = pd.read_json('https://api.github.com/users')"
   ]
  },
  {
   "cell_type": "code",
   "execution_count": 42,
   "id": "d59c8a82",
   "metadata": {},
   "outputs": [],
   "source": [
    "df = pd.DataFrame(df)"
   ]
  },
  {
   "cell_type": "code",
   "execution_count": 43,
   "id": "88be41df",
   "metadata": {},
   "outputs": [
    {
     "data": {
      "text/html": [
       "<div>\n",
       "<style scoped>\n",
       "    .dataframe tbody tr th:only-of-type {\n",
       "        vertical-align: middle;\n",
       "    }\n",
       "\n",
       "    .dataframe tbody tr th {\n",
       "        vertical-align: top;\n",
       "    }\n",
       "\n",
       "    .dataframe thead th {\n",
       "        text-align: right;\n",
       "    }\n",
       "</style>\n",
       "<table border=\"1\" class=\"dataframe\">\n",
       "  <thead>\n",
       "    <tr style=\"text-align: right;\">\n",
       "      <th></th>\n",
       "      <th>login</th>\n",
       "      <th>id</th>\n",
       "      <th>node_id</th>\n",
       "      <th>avatar_url</th>\n",
       "      <th>gravatar_id</th>\n",
       "      <th>url</th>\n",
       "      <th>html_url</th>\n",
       "      <th>followers_url</th>\n",
       "      <th>following_url</th>\n",
       "      <th>gists_url</th>\n",
       "      <th>starred_url</th>\n",
       "      <th>subscriptions_url</th>\n",
       "      <th>organizations_url</th>\n",
       "      <th>repos_url</th>\n",
       "      <th>events_url</th>\n",
       "      <th>received_events_url</th>\n",
       "      <th>type</th>\n",
       "      <th>site_admin</th>\n",
       "    </tr>\n",
       "  </thead>\n",
       "  <tbody>\n",
       "    <tr>\n",
       "      <th>0</th>\n",
       "      <td>mojombo</td>\n",
       "      <td>1</td>\n",
       "      <td>MDQ6VXNlcjE=</td>\n",
       "      <td>https://avatars.githubusercontent.com/u/1?v=4</td>\n",
       "      <td></td>\n",
       "      <td>https://api.github.com/users/mojombo</td>\n",
       "      <td>https://github.com/mojombo</td>\n",
       "      <td>https://api.github.com/users/mojombo/followers</td>\n",
       "      <td>https://api.github.com/users/mojombo/following...</td>\n",
       "      <td>https://api.github.com/users/mojombo/gists{/gi...</td>\n",
       "      <td>https://api.github.com/users/mojombo/starred{/...</td>\n",
       "      <td>https://api.github.com/users/mojombo/subscript...</td>\n",
       "      <td>https://api.github.com/users/mojombo/orgs</td>\n",
       "      <td>https://api.github.com/users/mojombo/repos</td>\n",
       "      <td>https://api.github.com/users/mojombo/events{/p...</td>\n",
       "      <td>https://api.github.com/users/mojombo/received_...</td>\n",
       "      <td>User</td>\n",
       "      <td>False</td>\n",
       "    </tr>\n",
       "    <tr>\n",
       "      <th>1</th>\n",
       "      <td>defunkt</td>\n",
       "      <td>2</td>\n",
       "      <td>MDQ6VXNlcjI=</td>\n",
       "      <td>https://avatars.githubusercontent.com/u/2?v=4</td>\n",
       "      <td></td>\n",
       "      <td>https://api.github.com/users/defunkt</td>\n",
       "      <td>https://github.com/defunkt</td>\n",
       "      <td>https://api.github.com/users/defunkt/followers</td>\n",
       "      <td>https://api.github.com/users/defunkt/following...</td>\n",
       "      <td>https://api.github.com/users/defunkt/gists{/gi...</td>\n",
       "      <td>https://api.github.com/users/defunkt/starred{/...</td>\n",
       "      <td>https://api.github.com/users/defunkt/subscript...</td>\n",
       "      <td>https://api.github.com/users/defunkt/orgs</td>\n",
       "      <td>https://api.github.com/users/defunkt/repos</td>\n",
       "      <td>https://api.github.com/users/defunkt/events{/p...</td>\n",
       "      <td>https://api.github.com/users/defunkt/received_...</td>\n",
       "      <td>User</td>\n",
       "      <td>False</td>\n",
       "    </tr>\n",
       "    <tr>\n",
       "      <th>2</th>\n",
       "      <td>pjhyett</td>\n",
       "      <td>3</td>\n",
       "      <td>MDQ6VXNlcjM=</td>\n",
       "      <td>https://avatars.githubusercontent.com/u/3?v=4</td>\n",
       "      <td></td>\n",
       "      <td>https://api.github.com/users/pjhyett</td>\n",
       "      <td>https://github.com/pjhyett</td>\n",
       "      <td>https://api.github.com/users/pjhyett/followers</td>\n",
       "      <td>https://api.github.com/users/pjhyett/following...</td>\n",
       "      <td>https://api.github.com/users/pjhyett/gists{/gi...</td>\n",
       "      <td>https://api.github.com/users/pjhyett/starred{/...</td>\n",
       "      <td>https://api.github.com/users/pjhyett/subscript...</td>\n",
       "      <td>https://api.github.com/users/pjhyett/orgs</td>\n",
       "      <td>https://api.github.com/users/pjhyett/repos</td>\n",
       "      <td>https://api.github.com/users/pjhyett/events{/p...</td>\n",
       "      <td>https://api.github.com/users/pjhyett/received_...</td>\n",
       "      <td>User</td>\n",
       "      <td>False</td>\n",
       "    </tr>\n",
       "    <tr>\n",
       "      <th>3</th>\n",
       "      <td>wycats</td>\n",
       "      <td>4</td>\n",
       "      <td>MDQ6VXNlcjQ=</td>\n",
       "      <td>https://avatars.githubusercontent.com/u/4?v=4</td>\n",
       "      <td></td>\n",
       "      <td>https://api.github.com/users/wycats</td>\n",
       "      <td>https://github.com/wycats</td>\n",
       "      <td>https://api.github.com/users/wycats/followers</td>\n",
       "      <td>https://api.github.com/users/wycats/following{...</td>\n",
       "      <td>https://api.github.com/users/wycats/gists{/gis...</td>\n",
       "      <td>https://api.github.com/users/wycats/starred{/o...</td>\n",
       "      <td>https://api.github.com/users/wycats/subscriptions</td>\n",
       "      <td>https://api.github.com/users/wycats/orgs</td>\n",
       "      <td>https://api.github.com/users/wycats/repos</td>\n",
       "      <td>https://api.github.com/users/wycats/events{/pr...</td>\n",
       "      <td>https://api.github.com/users/wycats/received_e...</td>\n",
       "      <td>User</td>\n",
       "      <td>False</td>\n",
       "    </tr>\n",
       "    <tr>\n",
       "      <th>4</th>\n",
       "      <td>ezmobius</td>\n",
       "      <td>5</td>\n",
       "      <td>MDQ6VXNlcjU=</td>\n",
       "      <td>https://avatars.githubusercontent.com/u/5?v=4</td>\n",
       "      <td></td>\n",
       "      <td>https://api.github.com/users/ezmobius</td>\n",
       "      <td>https://github.com/ezmobius</td>\n",
       "      <td>https://api.github.com/users/ezmobius/followers</td>\n",
       "      <td>https://api.github.com/users/ezmobius/followin...</td>\n",
       "      <td>https://api.github.com/users/ezmobius/gists{/g...</td>\n",
       "      <td>https://api.github.com/users/ezmobius/starred{...</td>\n",
       "      <td>https://api.github.com/users/ezmobius/subscrip...</td>\n",
       "      <td>https://api.github.com/users/ezmobius/orgs</td>\n",
       "      <td>https://api.github.com/users/ezmobius/repos</td>\n",
       "      <td>https://api.github.com/users/ezmobius/events{/...</td>\n",
       "      <td>https://api.github.com/users/ezmobius/received...</td>\n",
       "      <td>User</td>\n",
       "      <td>False</td>\n",
       "    </tr>\n",
       "  </tbody>\n",
       "</table>\n",
       "</div>"
      ],
      "text/plain": [
       "      login  id       node_id                                     avatar_url  \\\n",
       "0   mojombo   1  MDQ6VXNlcjE=  https://avatars.githubusercontent.com/u/1?v=4   \n",
       "1   defunkt   2  MDQ6VXNlcjI=  https://avatars.githubusercontent.com/u/2?v=4   \n",
       "2   pjhyett   3  MDQ6VXNlcjM=  https://avatars.githubusercontent.com/u/3?v=4   \n",
       "3    wycats   4  MDQ6VXNlcjQ=  https://avatars.githubusercontent.com/u/4?v=4   \n",
       "4  ezmobius   5  MDQ6VXNlcjU=  https://avatars.githubusercontent.com/u/5?v=4   \n",
       "\n",
       "  gravatar_id                                    url  \\\n",
       "0               https://api.github.com/users/mojombo   \n",
       "1               https://api.github.com/users/defunkt   \n",
       "2               https://api.github.com/users/pjhyett   \n",
       "3                https://api.github.com/users/wycats   \n",
       "4              https://api.github.com/users/ezmobius   \n",
       "\n",
       "                      html_url  \\\n",
       "0   https://github.com/mojombo   \n",
       "1   https://github.com/defunkt   \n",
       "2   https://github.com/pjhyett   \n",
       "3    https://github.com/wycats   \n",
       "4  https://github.com/ezmobius   \n",
       "\n",
       "                                     followers_url  \\\n",
       "0   https://api.github.com/users/mojombo/followers   \n",
       "1   https://api.github.com/users/defunkt/followers   \n",
       "2   https://api.github.com/users/pjhyett/followers   \n",
       "3    https://api.github.com/users/wycats/followers   \n",
       "4  https://api.github.com/users/ezmobius/followers   \n",
       "\n",
       "                                       following_url  \\\n",
       "0  https://api.github.com/users/mojombo/following...   \n",
       "1  https://api.github.com/users/defunkt/following...   \n",
       "2  https://api.github.com/users/pjhyett/following...   \n",
       "3  https://api.github.com/users/wycats/following{...   \n",
       "4  https://api.github.com/users/ezmobius/followin...   \n",
       "\n",
       "                                           gists_url  \\\n",
       "0  https://api.github.com/users/mojombo/gists{/gi...   \n",
       "1  https://api.github.com/users/defunkt/gists{/gi...   \n",
       "2  https://api.github.com/users/pjhyett/gists{/gi...   \n",
       "3  https://api.github.com/users/wycats/gists{/gis...   \n",
       "4  https://api.github.com/users/ezmobius/gists{/g...   \n",
       "\n",
       "                                         starred_url  \\\n",
       "0  https://api.github.com/users/mojombo/starred{/...   \n",
       "1  https://api.github.com/users/defunkt/starred{/...   \n",
       "2  https://api.github.com/users/pjhyett/starred{/...   \n",
       "3  https://api.github.com/users/wycats/starred{/o...   \n",
       "4  https://api.github.com/users/ezmobius/starred{...   \n",
       "\n",
       "                                   subscriptions_url  \\\n",
       "0  https://api.github.com/users/mojombo/subscript...   \n",
       "1  https://api.github.com/users/defunkt/subscript...   \n",
       "2  https://api.github.com/users/pjhyett/subscript...   \n",
       "3  https://api.github.com/users/wycats/subscriptions   \n",
       "4  https://api.github.com/users/ezmobius/subscrip...   \n",
       "\n",
       "                            organizations_url  \\\n",
       "0   https://api.github.com/users/mojombo/orgs   \n",
       "1   https://api.github.com/users/defunkt/orgs   \n",
       "2   https://api.github.com/users/pjhyett/orgs   \n",
       "3    https://api.github.com/users/wycats/orgs   \n",
       "4  https://api.github.com/users/ezmobius/orgs   \n",
       "\n",
       "                                     repos_url  \\\n",
       "0   https://api.github.com/users/mojombo/repos   \n",
       "1   https://api.github.com/users/defunkt/repos   \n",
       "2   https://api.github.com/users/pjhyett/repos   \n",
       "3    https://api.github.com/users/wycats/repos   \n",
       "4  https://api.github.com/users/ezmobius/repos   \n",
       "\n",
       "                                          events_url  \\\n",
       "0  https://api.github.com/users/mojombo/events{/p...   \n",
       "1  https://api.github.com/users/defunkt/events{/p...   \n",
       "2  https://api.github.com/users/pjhyett/events{/p...   \n",
       "3  https://api.github.com/users/wycats/events{/pr...   \n",
       "4  https://api.github.com/users/ezmobius/events{/...   \n",
       "\n",
       "                                 received_events_url  type  site_admin  \n",
       "0  https://api.github.com/users/mojombo/received_...  User       False  \n",
       "1  https://api.github.com/users/defunkt/received_...  User       False  \n",
       "2  https://api.github.com/users/pjhyett/received_...  User       False  \n",
       "3  https://api.github.com/users/wycats/received_e...  User       False  \n",
       "4  https://api.github.com/users/ezmobius/received...  User       False  "
      ]
     },
     "execution_count": 43,
     "metadata": {},
     "output_type": "execute_result"
    }
   ],
   "source": [
    "df .head()"
   ]
  },
  {
   "cell_type": "code",
   "execution_count": 46,
   "id": "693c715c",
   "metadata": {},
   "outputs": [
    {
     "ename": "SyntaxError",
     "evalue": "invalid syntax (498238825.py, line 1)",
     "output_type": "error",
     "traceback": [
      "\u001b[1;36m  File \u001b[1;32m\"C:\\Users\\Administrator\\AppData\\Local\\Temp\\ipykernel_8088\\498238825.py\"\u001b[1;36m, line \u001b[1;32m1\u001b[0m\n\u001b[1;33m    df. to csv(\"abc_1.csv\")\u001b[0m\n\u001b[1;37m           ^\u001b[0m\n\u001b[1;31mSyntaxError\u001b[0m\u001b[1;31m:\u001b[0m invalid syntax\n"
     ]
    }
   ],
   "source": [
    "df. to csv(\"abc_1.csv\")"
   ]
  },
  {
   "cell_type": "code",
   "execution_count": null,
   "id": "1e03e36c",
   "metadata": {},
   "outputs": [],
   "source": [
    " lst = []\n",
    "for i in range(10):\n",
    "    a = int(input(\"enter 0 or 1: \"))\n",
    "    lst.append(a)\n",
    "    "
   ]
  },
  {
   "cell_type": "code",
   "execution_count": null,
   "id": "a2d7011b",
   "metadata": {},
   "outputs": [],
   "source": []
  },
  {
   "cell_type": "code",
   "execution_count": null,
   "id": "dbcec2c6",
   "metadata": {},
   "outputs": [],
   "source": []
  },
  {
   "cell_type": "code",
   "execution_count": null,
   "id": "61e1d521",
   "metadata": {},
   "outputs": [],
   "source": []
  },
  {
   "cell_type": "code",
   "execution_count": null,
   "id": "3a9fc66d",
   "metadata": {},
   "outputs": [],
   "source": []
  },
  {
   "cell_type": "code",
   "execution_count": null,
   "id": "96bcfc6c",
   "metadata": {},
   "outputs": [],
   "source": []
  }
 ],
 "metadata": {
  "kernelspec": {
   "display_name": "Python 3 (ipykernel)",
   "language": "python",
   "name": "python3"
  },
  "language_info": {
   "codemirror_mode": {
    "name": "ipython",
    "version": 3
   },
   "file_extension": ".py",
   "mimetype": "text/x-python",
   "name": "python",
   "nbconvert_exporter": "python",
   "pygments_lexer": "ipython3",
   "version": "3.9.13"
  }
 },
 "nbformat": 4,
 "nbformat_minor": 5
}
